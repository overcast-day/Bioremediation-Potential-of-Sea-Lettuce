{
 "cells": [
  {
   "cell_type": "code",
   "execution_count": 12,
   "metadata": {},
   "outputs": [
    {
     "name": "stdout",
     "output_type": "stream",
     "text": [
      "1 2.6088390350341797 59.00\n",
      " 0.00 59.0\n",
      "2 3.612442970275879 60.00\n",
      " 0.00 60.0\n",
      "3 4.618308782577515 61.00\n",
      " 0.00 61.0\n",
      "4 5.624319076538086 61.00\n",
      " 0.00 61.0\n",
      "5 6.630411863327026 61.00\n",
      " 0.00 61.0\n",
      "6 7.632455825805664 61.00\n",
      " 0.00 61.0\n",
      "7 8.637158870697021 61.00\n",
      " 0.00 61.0\n",
      "8 9.643051862716675 61.00\n",
      " 0.00 61.0\n",
      "9 10.648940801620483 61.00\n",
      " 0.00 61.0\n",
      "10 11.650959968566895 61.00\n",
      " 0.00 61.0\n"
     ]
    },
    {
     "data": {
      "image/png": "[encoded data removed]",
      "text/plain": [
       "<Figure size 432x288 with 1 Axes>"
      ]
     },
     "metadata": {
      "needs_background": "light"
     },
     "output_type": "display_data"
    },
    {
     "name": "stdout",
     "output_type": "stream",
     "text": [
      "Darkness Reading =  0.00\n",
      "Average light levels:  60.7\n",
      "Average difference between light and dark:  60.7\n",
      "the end\n"
     ]
    }
   ],
   "source": [
    "import serial\n",
    "import time\n",
    "import csv\n",
    "import numpy as np\n",
    "import matplotlib.pyplot as plt\n",
    "\n",
    "\n",
    "#import schedule\n",
    "timestr = time.strftime(\"%Y%m%d-%H%M%S\") \n",
    "#FILE_NAME = 'Photometer 2.0a5 - '+timestr+'.csv'\n",
    "FILE_NAME = '2mL Additional Test.csv' #appending existing list\n",
    "\n",
    "list_values = []\n",
    "list_in_floats = []\n",
    "t = []\n",
    "l = []\n",
    "d = []\n",
    "dark = 0.0\n",
    "l_sum = 0.0\n",
    "d_sum = 0.0\n",
    "\n",
    "#controls\n",
    "count = 10\n",
    "create_file = True\n",
    "\n",
    "if create_file == True: \n",
    "    f = open(FILE_NAME,'a',newline='')          # open a file for 'a'ppending , creates the file if it does not exist\n",
    "    writer = csv.writer(f,delimiter=',')        # prepare for writing to file , Write Arduino ino accordingly\n",
    "    # Write data-field titles to file\n",
    "    writer.writerow(['trial 5', '.','.','Date:)', timestr])#appending existing list\n",
    "    writer.writerow(['Measurement #','Time (s)','Photocell Reading (l)', 'Darkcell Reading', ' Difference (d)'])\n",
    "\n",
    "n = 1             # count how many data-points collected\n",
    "startTime = time.time() # capture current time as datum\n",
    "arduino = serial.Serial('/dev/cu.usbmodem14101', 9600) #move arduino to void loop and get rid of 'for' loop\n",
    "\n",
    "try:\n",
    "    while n<=count:\n",
    "    #    print('Connected') #trouble shooting\n",
    "        arduino_data = arduino.readline() # reads a header that is not needed\n",
    "    #    print(arduino_data) #trouble shooting - b'1,14.00,25.00\\r\\n'\n",
    "        decoded_values = str(arduino_data[0:len(arduino_data)].decode(\"utf-8\"))\n",
    "    #    print(decoded_values) #trouble shootin - 1,14.00,25.00\n",
    "        list_values = decoded_values.split(',') #serial moniter printout:\"measurement num,darkcell,photocell reading\"\n",
    "\n",
    "        for item in list_values: \n",
    "            list_in_floats.append(float(item))\n",
    "\n",
    "        tn=time.time()-startTime\n",
    "        light = list_values[2]\n",
    "        dark = list_values[1]\n",
    "        diff = list_in_floats[2]-list_in_floats[1]\n",
    "        print(n,tn,light,dark,diff)\n",
    "        if create_file == True: \n",
    "            writer.writerow([n,tn,light,dark,diff])\n",
    "\n",
    "        t.append(tn)     # store the current time\n",
    "        l.append(float(light))     # store the current light reading\n",
    "        d.append(diff)\n",
    "\n",
    "        n = n + 1\n",
    "        arduino_data = 0\n",
    "        list_in_floats.clear()\n",
    "        list_values.clear()\n",
    "    #    arduino.close()   # closes board connection\n",
    "        time.sleep(1)    # take a data point every second\n",
    "\n",
    "except KeyboardInterrupt:\n",
    "    arduino.close()   # close board connection - not really neccessary unless you have a time limit set on your arduino \n",
    "    print(\"womp womp womp...something went wrong...Restart?>\")\n",
    "    if create_file == True:\n",
    "        f.close()       # close file gracefully when program is terminated\n",
    "\n",
    "#plot graph\n",
    "plt.figure()\n",
    "plt.ylim(0,300)\n",
    "plt.yticks(np.arange(0.00, 300.0,20.0))\n",
    "plt.plot(t, d, label=\"Difference reading (d)\")\n",
    "plt.plot(t, l, label=\"Light Levels (l)\")\n",
    "plt.xlabel(\"Time(s)\")\n",
    "plt.ylabel(\"Photocell Difference Reading (0-1023)\")            \n",
    "plt.legend()\n",
    "plt.grid()\n",
    "plt.show()\n",
    "print(\"Darkness Reading = \", dark)\n",
    "\n",
    "for item in l:\n",
    "    l_sum = l_sum + item\n",
    "for item in d:\n",
    "    d_sum = d_sum + item\n",
    "print(\"Average light levels: \", l_sum/count)\n",
    "print(\"Average difference between light and dark: \", d_sum/count)\n",
    "    \n",
    "arduino.close()   # closes board connection - neccessary w/ time limit set on arduino\n",
    "if create_file == True:\n",
    "    writer.writerow([\"Average\",\"-\",l_sum/count,dark,d_sum/count])\n",
    "    f.close()       # close file when program is terminated\n",
    "    \n",
    "print(\"the end\")"
   ]
  },
  {
   "cell_type": "code",
   "execution_count": null,
   "metadata": {},
   "outputs": [],
   "source": []
  },
  {
   "cell_type": "code",
   "execution_count": null,
   "metadata": {},
   "outputs": [],
   "source": []
  }
 ],
 "metadata": {
  "kernelspec": {
   "display_name": "Python 3",
   "language": "python",
   "name": "python3"
  },
  "language_info": {
   "codemirror_mode": {
    "name": "ipython",
    "version": 3
   },
   "file_extension": ".py",
   "mimetype": "text/x-python",
   "name": "python",
   "nbconvert_exporter": "python",
   "pygments_lexer": "ipython3",
   "version": "3.8.5"
  }
 },
 "nbformat": 4,
 "nbformat_minor": 4
}
